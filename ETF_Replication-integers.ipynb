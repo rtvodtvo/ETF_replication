{
 "cells": [
  {
   "cell_type": "code",
   "execution_count": 106,
   "id": "db4ecef3-05c5-4812-8660-86d7a4bb5940",
   "metadata": {},
   "outputs": [],
   "source": [
    "import requests\n",
    "import json\n",
    "import re\n",
    "from pprint import pprint\n",
    "import pandas as pd\n",
    "\n",
    "\n",
    "def get_holdings(url,keys):\n",
    "    headers = {\n",
    "    \"User-Agent\": \"Mozilla/5.0 (Windows NT 10.0; Win64; x64; rv:83.0) Gecko/20100101 Firefox/83.0\"\n",
    "    }\n",
    "    # Initialize an empty list to store the extracted data\n",
    "    holdings_data = []\n",
    "    with requests.Session() as req:\n",
    "        req.headers.update(headers)\n",
    "        for key in keys:\n",
    "            r = req.get(url.format(key))\n",
    "            for line in r.text.splitlines():\n",
    "                if not line.startswith('etf_holdings.formatted_data'):\n",
    "                    continue\n",
    "                data = json.loads(line[30:-1])\n",
    "                for holding in data:\n",
    "                    goal = re.search(r'etf/([^\"]*)', holding[1])\n",
    "                    if goal:\n",
    "                        # Append relevant data to the list\n",
    "                        holdings_data.append([goal.group(1), *holding[2:5]])\n",
    "                break\n",
    "    return holdings_data"
   ]
  },
  {
   "cell_type": "code",
   "execution_count": 107,
   "id": "8c82629f-79ca-4ea1-8ee0-0a3371634778",
   "metadata": {},
   "outputs": [
    {
     "data": {
      "text/html": [
       "<div>\n",
       "<style scoped>\n",
       "    .dataframe tbody tr th:only-of-type {\n",
       "        vertical-align: middle;\n",
       "    }\n",
       "\n",
       "    .dataframe tbody tr th {\n",
       "        vertical-align: top;\n",
       "    }\n",
       "\n",
       "    .dataframe thead th {\n",
       "        text-align: right;\n",
       "    }\n",
       "</style>\n",
       "<table border=\"1\" class=\"dataframe\">\n",
       "  <thead>\n",
       "    <tr style=\"text-align: right;\">\n",
       "      <th></th>\n",
       "      <th>symbol</th>\n",
       "      <th>shares</th>\n",
       "      <th>weight</th>\n",
       "      <th>52wk_change</th>\n",
       "    </tr>\n",
       "  </thead>\n",
       "  <tbody>\n",
       "    <tr>\n",
       "      <th>0</th>\n",
       "      <td>VZ</td>\n",
       "      <td>57,891,834</td>\n",
       "      <td>4.54</td>\n",
       "      <td>5.46</td>\n",
       "    </tr>\n",
       "    <tr>\n",
       "      <th>1</th>\n",
       "      <td>AMGN</td>\n",
       "      <td>7,946,436</td>\n",
       "      <td>4.38</td>\n",
       "      <td>17.82</td>\n",
       "    </tr>\n",
       "    <tr>\n",
       "      <th>2</th>\n",
       "      <td>AVGO</td>\n",
       "      <td>2,268,487</td>\n",
       "      <td>4.29</td>\n",
       "      <td>112.21</td>\n",
       "    </tr>\n",
       "    <tr>\n",
       "      <th>3</th>\n",
       "      <td>KO</td>\n",
       "      <td>33,663,538</td>\n",
       "      <td>4.02</td>\n",
       "      <td>0.13</td>\n",
       "    </tr>\n",
       "    <tr>\n",
       "      <th>4</th>\n",
       "      <td>ABBV</td>\n",
       "      <td>13,589,325</td>\n",
       "      <td>3.96</td>\n",
       "      <td>14.80</td>\n",
       "    </tr>\n",
       "    <tr>\n",
       "      <th>...</th>\n",
       "      <td>...</td>\n",
       "      <td>...</td>\n",
       "      <td>...</td>\n",
       "      <td>...</td>\n",
       "    </tr>\n",
       "    <tr>\n",
       "      <th>96</th>\n",
       "      <td>ETD</td>\n",
       "      <td>369,919</td>\n",
       "      <td>0.02</td>\n",
       "      <td>12.88</td>\n",
       "    </tr>\n",
       "    <tr>\n",
       "      <th>97</th>\n",
       "      <td>EBF</td>\n",
       "      <td>414,152</td>\n",
       "      <td>0.02</td>\n",
       "      <td>-10.80</td>\n",
       "    </tr>\n",
       "    <tr>\n",
       "      <th>98</th>\n",
       "      <td>HAFC</td>\n",
       "      <td>488,760</td>\n",
       "      <td>0.02</td>\n",
       "      <td>-34.22</td>\n",
       "    </tr>\n",
       "    <tr>\n",
       "      <th>99</th>\n",
       "      <td>CPF</td>\n",
       "      <td>439,861</td>\n",
       "      <td>0.02</td>\n",
       "      <td>-13.54</td>\n",
       "    </tr>\n",
       "    <tr>\n",
       "      <th>100</th>\n",
       "      <td>USD</td>\n",
       "      <td>16,491,853</td>\n",
       "      <td>0.01</td>\n",
       "      <td>0.00</td>\n",
       "    </tr>\n",
       "  </tbody>\n",
       "</table>\n",
       "<p>101 rows × 4 columns</p>\n",
       "</div>"
      ],
      "text/plain": [
       "    symbol      shares weight 52wk_change\n",
       "0       VZ  57,891,834   4.54        5.46\n",
       "1     AMGN   7,946,436   4.38       17.82\n",
       "2     AVGO   2,268,487   4.29      112.21\n",
       "3       KO  33,663,538   4.02        0.13\n",
       "4     ABBV  13,589,325   3.96       14.80\n",
       "..     ...         ...    ...         ...\n",
       "96     ETD     369,919   0.02       12.88\n",
       "97     EBF     414,152   0.02      -10.80\n",
       "98    HAFC     488,760   0.02      -34.22\n",
       "99     CPF     439,861   0.02      -13.54\n",
       "100    USD  16,491,853   0.01        0.00\n",
       "\n",
       "[101 rows x 4 columns]"
      ]
     },
     "execution_count": 107,
     "metadata": {},
     "output_type": "execute_result"
    }
   ],
   "source": [
    "schd_holdings = get_holdings(\"https://www.zacks.com/funds/etf/{}/holding\",['schd'])\n",
    "columns = ['symbol', 'shares', 'weight', '52wk_change']\n",
    "df_holdings = pd.DataFrame(schd_holdings, columns=columns)\n",
    "df_holdings"
   ]
  },
  {
   "cell_type": "code",
   "execution_count": 108,
   "id": "a9b44f0f-428c-465d-a223-0e3d1778f2ac",
   "metadata": {},
   "outputs": [],
   "source": [
    "import numpy as np\n",
    "vector_holdings = df_holdings.loc[:,['symbol','weight']]\n",
    "vector_holdings['weight_trading212']=0.01\n",
    "vector_schd = np.array(vector_holdings['weight'].astype(float))\n",
    "initial_guess = np.array(vector_holdings['weight_trading212'].astype(float))"
   ]
  },
  {
   "cell_type": "code",
   "execution_count": 109,
   "id": "298792dd-3cc4-45d2-90c8-d8863d3ffb38",
   "metadata": {},
   "outputs": [
    {
     "data": {
      "text/html": [
       "<div>\n",
       "<style scoped>\n",
       "    .dataframe tbody tr th:only-of-type {\n",
       "        vertical-align: middle;\n",
       "    }\n",
       "\n",
       "    .dataframe tbody tr th {\n",
       "        vertical-align: top;\n",
       "    }\n",
       "\n",
       "    .dataframe thead th {\n",
       "        text-align: right;\n",
       "    }\n",
       "</style>\n",
       "<table border=\"1\" class=\"dataframe\">\n",
       "  <thead>\n",
       "    <tr style=\"text-align: right;\">\n",
       "      <th></th>\n",
       "      <th>symbol</th>\n",
       "      <th>weight</th>\n",
       "      <th>weight_trading212</th>\n",
       "    </tr>\n",
       "  </thead>\n",
       "  <tbody>\n",
       "    <tr>\n",
       "      <th>0</th>\n",
       "      <td>VZ_US_EQ</td>\n",
       "      <td>4.54</td>\n",
       "      <td>0.01</td>\n",
       "    </tr>\n",
       "    <tr>\n",
       "      <th>1</th>\n",
       "      <td>AMGN_US_EQ</td>\n",
       "      <td>4.38</td>\n",
       "      <td>0.01</td>\n",
       "    </tr>\n",
       "    <tr>\n",
       "      <th>2</th>\n",
       "      <td>AVGO_US_EQ</td>\n",
       "      <td>4.29</td>\n",
       "      <td>0.01</td>\n",
       "    </tr>\n",
       "    <tr>\n",
       "      <th>3</th>\n",
       "      <td>KO_US_EQ</td>\n",
       "      <td>4.02</td>\n",
       "      <td>0.01</td>\n",
       "    </tr>\n",
       "    <tr>\n",
       "      <th>4</th>\n",
       "      <td>ABBV_US_EQ</td>\n",
       "      <td>3.96</td>\n",
       "      <td>0.01</td>\n",
       "    </tr>\n",
       "    <tr>\n",
       "      <th>...</th>\n",
       "      <td>...</td>\n",
       "      <td>...</td>\n",
       "      <td>...</td>\n",
       "    </tr>\n",
       "    <tr>\n",
       "      <th>96</th>\n",
       "      <td>ETD_US_EQ</td>\n",
       "      <td>0.02</td>\n",
       "      <td>0.01</td>\n",
       "    </tr>\n",
       "    <tr>\n",
       "      <th>97</th>\n",
       "      <td>EBF_US_EQ</td>\n",
       "      <td>0.02</td>\n",
       "      <td>0.01</td>\n",
       "    </tr>\n",
       "    <tr>\n",
       "      <th>98</th>\n",
       "      <td>HAFC_US_EQ</td>\n",
       "      <td>0.02</td>\n",
       "      <td>0.01</td>\n",
       "    </tr>\n",
       "    <tr>\n",
       "      <th>99</th>\n",
       "      <td>CPF_US_EQ</td>\n",
       "      <td>0.02</td>\n",
       "      <td>0.01</td>\n",
       "    </tr>\n",
       "    <tr>\n",
       "      <th>100</th>\n",
       "      <td>USD_US_EQ</td>\n",
       "      <td>0.01</td>\n",
       "      <td>0.01</td>\n",
       "    </tr>\n",
       "  </tbody>\n",
       "</table>\n",
       "<p>101 rows × 3 columns</p>\n",
       "</div>"
      ],
      "text/plain": [
       "         symbol weight  weight_trading212\n",
       "0      VZ_US_EQ   4.54               0.01\n",
       "1    AMGN_US_EQ   4.38               0.01\n",
       "2    AVGO_US_EQ   4.29               0.01\n",
       "3      KO_US_EQ   4.02               0.01\n",
       "4    ABBV_US_EQ   3.96               0.01\n",
       "..          ...    ...                ...\n",
       "96    ETD_US_EQ   0.02               0.01\n",
       "97    EBF_US_EQ   0.02               0.01\n",
       "98   HAFC_US_EQ   0.02               0.01\n",
       "99    CPF_US_EQ   0.02               0.01\n",
       "100   USD_US_EQ   0.01               0.01\n",
       "\n",
       "[101 rows x 3 columns]"
      ]
     },
     "execution_count": 109,
     "metadata": {},
     "output_type": "execute_result"
    }
   ],
   "source": [
    "vector_holdings['symbol']= vector_holdings['symbol']+'_US_EQ'\n",
    "vector_holdings"
   ]
  },
  {
   "cell_type": "code",
   "execution_count": 110,
   "id": "99f3924e-0717-420a-94bc-afe2d015534a",
   "metadata": {},
   "outputs": [
    {
     "data": {
      "text/plain": [
       "16.726601567562973"
      ]
     },
     "execution_count": 110,
     "metadata": {},
     "output_type": "execute_result"
    }
   ],
   "source": [
    "from scipy.spatial import distance\n",
    "euclidean_distance = distance.euclidean(vector_holdings['weight'].astype(float), vector_holdings['weight_trading212'].astype(float))\n",
    "euclidean_distance"
   ]
  },
  {
   "cell_type": "code",
   "execution_count": 111,
   "id": "5ed2d151-25dd-4c25-a6e8-191235c408ea",
   "metadata": {},
   "outputs": [],
   "source": [
    "vector_holdings = vector_holdings[vector_holdings['symbol'] != 'PARA_US_EQ']\n",
    "vector_holdings = vector_holdings[vector_holdings['symbol'] != 'SNV_US_EQ']\n",
    "vector_holdings = vector_holdings[vector_holdings['symbol'] != 'LAZ_US_EQ']\n",
    "vector_holdings = vector_holdings[vector_holdings['symbol'] != 'CWENA_US_EQ']\n",
    "vector_holdings = vector_holdings[vector_holdings['symbol'] != 'PFC_US_EQ']\n",
    "vector_holdings = vector_holdings[vector_holdings['symbol'] != 'ETD_US_EQ']"
   ]
  },
  {
   "cell_type": "code",
   "execution_count": 112,
   "id": "2a947eca-dda0-47b0-bbe9-765ce30bd307",
   "metadata": {},
   "outputs": [],
   "source": [
    "vector_holdings.loc[len(vector_holdings.index)] = ['TREX_US_EQ', '0.05', 0.06] "
   ]
  },
  {
   "cell_type": "code",
   "execution_count": 113,
   "id": "160b7ff0-9d6d-4cf3-8add-fdf3fb6c1c74",
   "metadata": {},
   "outputs": [
    {
     "data": {
      "text/plain": [
       "1.0"
      ]
     },
     "execution_count": 113,
     "metadata": {},
     "output_type": "execute_result"
    }
   ],
   "source": [
    "vector_holdings['weight_trading212'].sum()"
   ]
  },
  {
   "cell_type": "code",
   "execution_count": 114,
   "id": "a9ad0115-cf0a-4244-99b4-5d52cfeeb63c",
   "metadata": {},
   "outputs": [],
   "source": [
    "json_data = vector_holdings.set_index('symbol').to_dict()['weight_trading212']"
   ]
  },
  {
   "cell_type": "code",
   "execution_count": 115,
   "id": "6c4acd47-3826-445c-b3e7-15f3ee509a25",
   "metadata": {},
   "outputs": [
    {
     "data": {
      "text/plain": [
       "1.0000000000000007"
      ]
     },
     "execution_count": 115,
     "metadata": {},
     "output_type": "execute_result"
    }
   ],
   "source": [
    "sum(json_data.values())"
   ]
  },
  {
   "cell_type": "code",
   "execution_count": 116,
   "id": "164c24f3-cd28-4a61-8d86-5957d2b2ddc6",
   "metadata": {},
   "outputs": [
    {
     "data": {
      "text/plain": [
       "\"\\nwith open('schd_holdings212.json', 'w') as json_file:\\n    json.dump(json_data, json_file, indent=4)\\n\""
      ]
     },
     "execution_count": 116,
     "metadata": {},
     "output_type": "execute_result"
    }
   ],
   "source": [
    "'''\n",
    "with open('schd_holdings212.json', 'w') as json_file:\n",
    "    json.dump(json_data, json_file, indent=4)\n",
    "'''"
   ]
  },
  {
   "cell_type": "code",
   "execution_count": 117,
   "id": "b10fb8bb-a72a-45ea-8551-144accb3947e",
   "metadata": {},
   "outputs": [
    {
     "name": "stdout",
     "output_type": "stream",
     "text": [
      "{'code': 'InternalError'}\n"
     ]
    }
   ],
   "source": [
    "json_data = vector_holdings.set_index('symbol').to_dict()['weight_trading212']\n",
    "import requests\n",
    "\n",
    "url = \"https://live.trading212.com/api/v0/equity/pies\"\n",
    "\n",
    "payload = {\n",
    "  \"dividendCashAction\": \"REINVEST\",\n",
    "  \"endDate\": \"2019-08-24T14:15:22Z\",\n",
    "  \"goal\": 0,\n",
    "  \"icon\": \"Home\",\n",
    "  \"instrumentShares\": filtered_data,\n",
    "  \"name\": \"SCHD replication\"\n",
    "}\n",
    "\n",
    "headers = {\n",
    "  \"Content-Type\": \"application/json\",\n",
    "  \"Authorization\": \"yuour key\"\"\n",
    "}\n",
    "\n",
    "response = requests.post(url, json=payload, headers=headers)\n",
    "\n",
    "data = response.json()\n",
    "print(data)"
   ]
  },
  {
   "cell_type": "code",
   "execution_count": 118,
   "id": "8c910371-4dae-4a2c-ad3a-d21971adc1ff",
   "metadata": {},
   "outputs": [
    {
     "data": {
      "text/plain": [
       "{'VZ_US_EQ': 0.01,\n",
       " 'AMGN_US_EQ': 0.01,\n",
       " 'AVGO_US_EQ': 0.01,\n",
       " 'KO_US_EQ': 0.01,\n",
       " 'ABBV_US_EQ': 0.01,\n",
       " 'PEP_US_EQ': 0.01,\n",
       " 'MRK_US_EQ': 0.01,\n",
       " 'HD_US_EQ': 0.01,\n",
       " 'BLK_US_EQ': 0.01,\n",
       " 'TXN_US_EQ': 0.01,\n",
       " 'UPS_US_EQ': 0.01,\n",
       " 'PFE_US_EQ': 0.01,\n",
       " 'CVX_US_EQ': 0.01,\n",
       " 'CSCO_US_EQ': 0.01,\n",
       " 'LMT_US_EQ': 0.01,\n",
       " 'ADP_US_EQ': 0.01,\n",
       " 'BX_US_EQ': 0.01,\n",
       " 'MO_US_EQ': 0.01,\n",
       " 'EOG_US_EQ': 0.01,\n",
       " 'ITW_US_EQ': 0.01,\n",
       " 'MMM_US_EQ': 0.01,\n",
       " 'USB_US_EQ': 0.01,\n",
       " 'VLO_US_EQ': 0.01,\n",
       " 'KMB_US_EQ': 0.01,\n",
       " 'F_US_EQ': 0.01,\n",
       " 'PAYX_US_EQ': 0.01,\n",
       " 'ALL_US_EQ': 0.01,\n",
       " 'FAST_US_EQ': 0.01,\n",
       " 'NEM_US_EQ': 0.01,\n",
       " 'OKE_US_EQ': 0.01,\n",
       " 'LYB_US_EQ': 0.01,\n",
       " 'TROW_US_EQ': 0.01,\n",
       " 'MTB_US_EQ': 0.01,\n",
       " 'CTRA_US_EQ': 0.01,\n",
       " 'FITB_US_EQ': 0.01,\n",
       " 'DRI_US_EQ': 0.01,\n",
       " 'NTRS_US_EQ': 0.01,\n",
       " 'HBAN_US_EQ': 0.01,\n",
       " 'RF_US_EQ': 0.01,\n",
       " 'PKG_US_EQ': 0.01,\n",
       " 'SNA_US_EQ': 0.01,\n",
       " 'AMCR_US_EQ': 0.01,\n",
       " 'BBY_US_EQ': 0.01,\n",
       " 'K_US_EQ': 0.01,\n",
       " 'TSN_US_EQ': 0.01,\n",
       " 'IP_US_EQ': 0.01,\n",
       " 'WSO_US_EQ': 0.01,\n",
       " 'WSM_US_EQ': 0.01,\n",
       " 'FNF_US_EQ': 0.01,\n",
       " 'IPG_US_EQ': 0.01,\n",
       " 'KEY_US_EQ': 0.01,\n",
       " 'NRG_US_EQ': 0.01,\n",
       " 'RHI_US_EQ': 0.01,\n",
       " 'UNM_US_EQ': 0.01,\n",
       " 'HRB_US_EQ': 0.01,\n",
       " 'FAF_US_EQ': 0.01,\n",
       " 'WHR_US_EQ': 0.01,\n",
       " 'CMA_US_EQ': 0.01,\n",
       " 'ZION_US_EQ': 0.01,\n",
       " 'MSM_US_EQ': 0.01,\n",
       " 'OZK_US_EQ': 0.01,\n",
       " 'WU_US_EQ': 0.01,\n",
       " 'HUN_US_EQ': 0.01,\n",
       " 'RDN_US_EQ': 0.01,\n",
       " 'JHG_US_EQ': 0.01,\n",
       " 'WEN_US_EQ': 0.01,\n",
       " 'LEG_US_EQ': 0.01,\n",
       " 'AAP_US_EQ': 0.01,\n",
       " 'CATY_US_EQ': 0.01,\n",
       " 'MDC_US_EQ': 0.01,\n",
       " 'APAM_US_EQ': 0.01,\n",
       " 'CRI_US_EQ': 0.01,\n",
       " 'IBOC_US_EQ': 0.01,\n",
       " 'CVBF_US_EQ': 0.01,\n",
       " 'BOH_US_EQ': 0.01,\n",
       " 'OFG_US_EQ': 0.01,\n",
       " 'BANR_US_EQ': 0.01,\n",
       " 'AGM_US_EQ': 0.01,\n",
       " 'CBRL_US_EQ': 0.01,\n",
       " 'CNS_US_EQ': 0.01,\n",
       " 'CHCO_US_EQ': 0.01,\n",
       " 'NWBI_US_EQ': 0.01,\n",
       " 'FCF_US_EQ': 0.01,\n",
       " 'KFRC_US_EQ': 0.01,\n",
       " 'STC_US_EQ': 0.01,\n",
       " 'BKE_US_EQ': 0.01,\n",
       " 'STBA_US_EQ': 0.01,\n",
       " 'SRCE_US_EQ': 0.01,\n",
       " 'RGR_US_EQ': 0.01,\n",
       " 'GES_US_EQ': 0.01,\n",
       " 'TREX_US_EQ': 0.06,\n",
       " 'EBF_US_EQ': 0.01,\n",
       " 'HAFC_US_EQ': 0.01,\n",
       " 'CPF_US_EQ': 0.01,\n",
       " 'USD_US_EQ': 0.01}"
      ]
     },
     "execution_count": 118,
     "metadata": {},
     "output_type": "execute_result"
    }
   ],
   "source": [
    "json_data"
   ]
  },
  {
   "cell_type": "code",
   "execution_count": null,
   "id": "a5318718-dbbb-4cee-bdc8-fbdd44355e4b",
   "metadata": {},
   "outputs": [],
   "source": []
  }
 ],
 "metadata": {
  "kernelspec": {
   "display_name": "Python 3 (ipykernel)",
   "language": "python",
   "name": "python3"
  },
  "language_info": {
   "codemirror_mode": {
    "name": "ipython",
    "version": 3
   },
   "file_extension": ".py",
   "mimetype": "text/x-python",
   "name": "python",
   "nbconvert_exporter": "python",
   "pygments_lexer": "ipython3",
   "version": "3.10.13"
  }
 },
 "nbformat": 4,
 "nbformat_minor": 5
}
