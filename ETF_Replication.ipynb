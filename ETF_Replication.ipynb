{
 "cells": [
  {
   "cell_type": "code",
   "execution_count": 36,
   "id": "db4ecef3-05c5-4812-8660-86d7a4bb5940",
   "metadata": {},
   "outputs": [],
   "source": [
    "import requests\n",
    "import json\n",
    "import re\n",
    "from pprint import pprint\n",
    "import pandas as pd\n",
    "\n",
    "\n",
    "def get_holdings(url,keys):\n",
    "    headers = {\n",
    "    \"User-Agent\": \"Mozilla/5.0 (Windows NT 10.0; Win64; x64; rv:83.0) Gecko/20100101 Firefox/83.0\"\n",
    "    }\n",
    "    # Initialize an empty list to store the extracted data\n",
    "    holdings_data = []\n",
    "    with requests.Session() as req:\n",
    "        req.headers.update(headers)\n",
    "        for key in keys:\n",
    "            r = req.get(url.format(key))\n",
    "            for line in r.text.splitlines():\n",
    "                if not line.startswith('etf_holdings.formatted_data'):\n",
    "                    continue\n",
    "                data = json.loads(line[30:-1])\n",
    "                for holding in data:\n",
    "                    goal = re.search(r'etf/([^\"]*)', holding[1])\n",
    "                    if goal:\n",
    "                        # Append relevant data to the list\n",
    "                        holdings_data.append([goal.group(1), *holding[2:5]])\n",
    "                break\n",
    "    return holdings_data"
   ]
  },
  {
   "cell_type": "code",
   "execution_count": 43,
   "id": "8c82629f-79ca-4ea1-8ee0-0a3371634778",
   "metadata": {},
   "outputs": [
    {
     "data": {
      "text/html": [
       "<div>\n",
       "<style scoped>\n",
       "    .dataframe tbody tr th:only-of-type {\n",
       "        vertical-align: middle;\n",
       "    }\n",
       "\n",
       "    .dataframe tbody tr th {\n",
       "        vertical-align: top;\n",
       "    }\n",
       "\n",
       "    .dataframe thead th {\n",
       "        text-align: right;\n",
       "    }\n",
       "</style>\n",
       "<table border=\"1\" class=\"dataframe\">\n",
       "  <thead>\n",
       "    <tr style=\"text-align: right;\">\n",
       "      <th></th>\n",
       "      <th>symbol</th>\n",
       "      <th>shares</th>\n",
       "      <th>weight</th>\n",
       "      <th>52wk_change</th>\n",
       "    </tr>\n",
       "  </thead>\n",
       "  <tbody>\n",
       "    <tr>\n",
       "      <th>0</th>\n",
       "      <td>VZ</td>\n",
       "      <td>57,891,834</td>\n",
       "      <td>4.54</td>\n",
       "      <td>4.67</td>\n",
       "    </tr>\n",
       "    <tr>\n",
       "      <th>1</th>\n",
       "      <td>AMGN</td>\n",
       "      <td>7,946,436</td>\n",
       "      <td>4.38</td>\n",
       "      <td>17.64</td>\n",
       "    </tr>\n",
       "    <tr>\n",
       "      <th>2</th>\n",
       "      <td>AVGO</td>\n",
       "      <td>2,268,487</td>\n",
       "      <td>4.29</td>\n",
       "      <td>113.30</td>\n",
       "    </tr>\n",
       "    <tr>\n",
       "      <th>3</th>\n",
       "      <td>KO</td>\n",
       "      <td>33,663,538</td>\n",
       "      <td>4.02</td>\n",
       "      <td>-1.34</td>\n",
       "    </tr>\n",
       "    <tr>\n",
       "      <th>4</th>\n",
       "      <td>ABBV</td>\n",
       "      <td>13,589,325</td>\n",
       "      <td>3.96</td>\n",
       "      <td>16.60</td>\n",
       "    </tr>\n",
       "    <tr>\n",
       "      <th>...</th>\n",
       "      <td>...</td>\n",
       "      <td>...</td>\n",
       "      <td>...</td>\n",
       "      <td>...</td>\n",
       "    </tr>\n",
       "    <tr>\n",
       "      <th>96</th>\n",
       "      <td>ETD</td>\n",
       "      <td>369,919</td>\n",
       "      <td>0.02</td>\n",
       "      <td>12.57</td>\n",
       "    </tr>\n",
       "    <tr>\n",
       "      <th>97</th>\n",
       "      <td>EBF</td>\n",
       "      <td>414,152</td>\n",
       "      <td>0.02</td>\n",
       "      <td>-7.52</td>\n",
       "    </tr>\n",
       "    <tr>\n",
       "      <th>98</th>\n",
       "      <td>HAFC</td>\n",
       "      <td>488,760</td>\n",
       "      <td>0.02</td>\n",
       "      <td>-32.92</td>\n",
       "    </tr>\n",
       "    <tr>\n",
       "      <th>99</th>\n",
       "      <td>CPF</td>\n",
       "      <td>439,861</td>\n",
       "      <td>0.02</td>\n",
       "      <td>-12.72</td>\n",
       "    </tr>\n",
       "    <tr>\n",
       "      <th>100</th>\n",
       "      <td>USD</td>\n",
       "      <td>16,491,853</td>\n",
       "      <td>0.01</td>\n",
       "      <td>0.00</td>\n",
       "    </tr>\n",
       "  </tbody>\n",
       "</table>\n",
       "<p>101 rows × 4 columns</p>\n",
       "</div>"
      ],
      "text/plain": [
       "    symbol      shares weight 52wk_change\n",
       "0       VZ  57,891,834   4.54        4.67\n",
       "1     AMGN   7,946,436   4.38       17.64\n",
       "2     AVGO   2,268,487   4.29      113.30\n",
       "3       KO  33,663,538   4.02       -1.34\n",
       "4     ABBV  13,589,325   3.96       16.60\n",
       "..     ...         ...    ...         ...\n",
       "96     ETD     369,919   0.02       12.57\n",
       "97     EBF     414,152   0.02       -7.52\n",
       "98    HAFC     488,760   0.02      -32.92\n",
       "99     CPF     439,861   0.02      -12.72\n",
       "100    USD  16,491,853   0.01        0.00\n",
       "\n",
       "[101 rows x 4 columns]"
      ]
     },
     "execution_count": 43,
     "metadata": {},
     "output_type": "execute_result"
    }
   ],
   "source": [
    "schd_holdings = get_holdings(\"https://www.zacks.com/funds/etf/{}/holding\",['schd'])\n",
    "columns = ['symbol', 'shares', 'weight', '52wk_change']\n",
    "df_holdings = pd.DataFrame(schd_holdings, columns=columns)\n",
    "df_holdings"
   ]
  },
  {
   "cell_type": "code",
   "execution_count": 38,
   "id": "a9b44f0f-428c-465d-a223-0e3d1778f2ac",
   "metadata": {},
   "outputs": [],
   "source": [
    "import numpy as np\n",
    "vector_holdings = df_holdings.loc[:,['symbol','weight']]\n",
    "vector_holdings['weight_trading212']='0.1'\n",
    "vector_schd = np.array(vector_holdings['weight'].astype(float))\n",
    "initial_guess = np.array(vector_holdings['weight_trading212'].astype(float))"
   ]
  },
  {
   "cell_type": "code",
   "execution_count": 15,
   "id": "b5c54dab-720b-4299-b43c-739f6763b39c",
   "metadata": {},
   "outputs": [],
   "source": [
    "rounded_vector = [round(element, 1) for element in vector_schd]\n",
    "rounded_vector =  [0.1 if element == 0 else element for element in rounded_vector]"
   ]
  },
  {
   "cell_type": "code",
   "execution_count": 16,
   "id": "c3cf8c3b-517b-4d46-82c7-9e1ff8924376",
   "metadata": {},
   "outputs": [],
   "source": [
    "sum_of_rounded_vector = sum(rounded_vector)\n",
    "rounded_sum = round(sum_of_rounded_vector)\n",
    "number_of_reduction = (rounded_sum-100)/0.1"
   ]
  },
  {
   "cell_type": "code",
   "execution_count": 17,
   "id": "b5681e46-e435-4854-9705-e40870e74d73",
   "metadata": {},
   "outputs": [],
   "source": [
    "number_of_reduction = (rounded_sum-100)/0.1\n",
    "i=len(rounded_vector)-1\n",
    "while number_of_reduction > 0:\n",
    "    if(rounded_vector[i]>0.1):\n",
    "        rounded_vector[i]=rounded_vector[i]-0.1\n",
    "        number_of_reduction= number_of_reduction-1\n",
    "    i=i-1"
   ]
  },
  {
   "cell_type": "code",
   "execution_count": 18,
   "id": "298792dd-3cc4-45d2-90c8-d8863d3ffb38",
   "metadata": {},
   "outputs": [
    {
     "data": {
      "text/html": [
       "<div>\n",
       "<style scoped>\n",
       "    .dataframe tbody tr th:only-of-type {\n",
       "        vertical-align: middle;\n",
       "    }\n",
       "\n",
       "    .dataframe tbody tr th {\n",
       "        vertical-align: top;\n",
       "    }\n",
       "\n",
       "    .dataframe thead th {\n",
       "        text-align: right;\n",
       "    }\n",
       "</style>\n",
       "<table border=\"1\" class=\"dataframe\">\n",
       "  <thead>\n",
       "    <tr style=\"text-align: right;\">\n",
       "      <th></th>\n",
       "      <th>symbol</th>\n",
       "      <th>weight</th>\n",
       "      <th>weight_trading212</th>\n",
       "    </tr>\n",
       "  </thead>\n",
       "  <tbody>\n",
       "    <tr>\n",
       "      <th>0</th>\n",
       "      <td>UNH_US_EQ</td>\n",
       "      <td>9.43</td>\n",
       "      <td>9.4</td>\n",
       "    </tr>\n",
       "    <tr>\n",
       "      <th>1</th>\n",
       "      <td>GS_US_EQ</td>\n",
       "      <td>6.77</td>\n",
       "      <td>6.8</td>\n",
       "    </tr>\n",
       "    <tr>\n",
       "      <th>2</th>\n",
       "      <td>MSFT_US_EQ</td>\n",
       "      <td>6.46</td>\n",
       "      <td>6.5</td>\n",
       "    </tr>\n",
       "    <tr>\n",
       "      <th>3</th>\n",
       "      <td>HD_US_EQ</td>\n",
       "      <td>6.21</td>\n",
       "      <td>6.2</td>\n",
       "    </tr>\n",
       "    <tr>\n",
       "      <th>4</th>\n",
       "      <td>MCD_US_EQ</td>\n",
       "      <td>5.12</td>\n",
       "      <td>5.1</td>\n",
       "    </tr>\n",
       "    <tr>\n",
       "      <th>5</th>\n",
       "      <td>CAT_US_EQ</td>\n",
       "      <td>5.03</td>\n",
       "      <td>5.0</td>\n",
       "    </tr>\n",
       "    <tr>\n",
       "      <th>6</th>\n",
       "      <td>AMGN_US_EQ</td>\n",
       "      <td>4.88</td>\n",
       "      <td>4.9</td>\n",
       "    </tr>\n",
       "    <tr>\n",
       "      <th>7</th>\n",
       "      <td>V_US_EQ</td>\n",
       "      <td>4.57</td>\n",
       "      <td>4.6</td>\n",
       "    </tr>\n",
       "    <tr>\n",
       "      <th>8</th>\n",
       "      <td>CRM_US_EQ</td>\n",
       "      <td>4.54</td>\n",
       "      <td>4.5</td>\n",
       "    </tr>\n",
       "    <tr>\n",
       "      <th>9</th>\n",
       "      <td>BA_US_EQ</td>\n",
       "      <td>4.52</td>\n",
       "      <td>4.5</td>\n",
       "    </tr>\n",
       "    <tr>\n",
       "      <th>10</th>\n",
       "      <td>HON_US_EQ</td>\n",
       "      <td>3.59</td>\n",
       "      <td>3.6</td>\n",
       "    </tr>\n",
       "    <tr>\n",
       "      <th>11</th>\n",
       "      <td>AAPL_US_EQ</td>\n",
       "      <td>3.50</td>\n",
       "      <td>3.5</td>\n",
       "    </tr>\n",
       "    <tr>\n",
       "      <th>12</th>\n",
       "      <td>TRV_US_EQ</td>\n",
       "      <td>3.23</td>\n",
       "      <td>3.2</td>\n",
       "    </tr>\n",
       "    <tr>\n",
       "      <th>13</th>\n",
       "      <td>AXP_US_EQ</td>\n",
       "      <td>3.16</td>\n",
       "      <td>3.2</td>\n",
       "    </tr>\n",
       "    <tr>\n",
       "      <th>14</th>\n",
       "      <td>JPM_US_EQ</td>\n",
       "      <td>2.89</td>\n",
       "      <td>2.9</td>\n",
       "    </tr>\n",
       "    <tr>\n",
       "      <th>15</th>\n",
       "      <td>IBM_US_EQ</td>\n",
       "      <td>2.88</td>\n",
       "      <td>2.9</td>\n",
       "    </tr>\n",
       "    <tr>\n",
       "      <th>16</th>\n",
       "      <td>JNJ_US_EQ</td>\n",
       "      <td>2.77</td>\n",
       "      <td>2.8</td>\n",
       "    </tr>\n",
       "    <tr>\n",
       "      <th>17</th>\n",
       "      <td>WMT_US_EQ</td>\n",
       "      <td>2.69</td>\n",
       "      <td>2.7</td>\n",
       "    </tr>\n",
       "    <tr>\n",
       "      <th>18</th>\n",
       "      <td>CVX_US_EQ</td>\n",
       "      <td>2.65</td>\n",
       "      <td>2.6</td>\n",
       "    </tr>\n",
       "    <tr>\n",
       "      <th>19</th>\n",
       "      <td>PG_US_EQ</td>\n",
       "      <td>2.55</td>\n",
       "      <td>2.6</td>\n",
       "    </tr>\n",
       "    <tr>\n",
       "      <th>20</th>\n",
       "      <td>NKE_US_EQ</td>\n",
       "      <td>2.14</td>\n",
       "      <td>2.1</td>\n",
       "    </tr>\n",
       "    <tr>\n",
       "      <th>21</th>\n",
       "      <td>MMM_US_EQ</td>\n",
       "      <td>1.89</td>\n",
       "      <td>1.9</td>\n",
       "    </tr>\n",
       "    <tr>\n",
       "      <th>22</th>\n",
       "      <td>MRK_US_EQ</td>\n",
       "      <td>1.87</td>\n",
       "      <td>1.9</td>\n",
       "    </tr>\n",
       "    <tr>\n",
       "      <th>23</th>\n",
       "      <td>DIS_US_EQ</td>\n",
       "      <td>1.66</td>\n",
       "      <td>1.7</td>\n",
       "    </tr>\n",
       "    <tr>\n",
       "      <th>24</th>\n",
       "      <td>KO_US_EQ</td>\n",
       "      <td>1.04</td>\n",
       "      <td>1.0</td>\n",
       "    </tr>\n",
       "    <tr>\n",
       "      <th>25</th>\n",
       "      <td>DOW_US_EQ</td>\n",
       "      <td>0.96</td>\n",
       "      <td>1.0</td>\n",
       "    </tr>\n",
       "    <tr>\n",
       "      <th>26</th>\n",
       "      <td>CSCO_US_EQ</td>\n",
       "      <td>0.87</td>\n",
       "      <td>0.9</td>\n",
       "    </tr>\n",
       "    <tr>\n",
       "      <th>27</th>\n",
       "      <td>INTC_US_EQ</td>\n",
       "      <td>0.80</td>\n",
       "      <td>0.8</td>\n",
       "    </tr>\n",
       "    <tr>\n",
       "      <th>28</th>\n",
       "      <td>VZ_US_EQ</td>\n",
       "      <td>0.67</td>\n",
       "      <td>0.7</td>\n",
       "    </tr>\n",
       "    <tr>\n",
       "      <th>29</th>\n",
       "      <td>WBA_US_EQ</td>\n",
       "      <td>0.44</td>\n",
       "      <td>0.4</td>\n",
       "    </tr>\n",
       "  </tbody>\n",
       "</table>\n",
       "</div>"
      ],
      "text/plain": [
       "        symbol weight  weight_trading212\n",
       "0    UNH_US_EQ   9.43                9.4\n",
       "1     GS_US_EQ   6.77                6.8\n",
       "2   MSFT_US_EQ   6.46                6.5\n",
       "3     HD_US_EQ   6.21                6.2\n",
       "4    MCD_US_EQ   5.12                5.1\n",
       "5    CAT_US_EQ   5.03                5.0\n",
       "6   AMGN_US_EQ   4.88                4.9\n",
       "7      V_US_EQ   4.57                4.6\n",
       "8    CRM_US_EQ   4.54                4.5\n",
       "9     BA_US_EQ   4.52                4.5\n",
       "10   HON_US_EQ   3.59                3.6\n",
       "11  AAPL_US_EQ   3.50                3.5\n",
       "12   TRV_US_EQ   3.23                3.2\n",
       "13   AXP_US_EQ   3.16                3.2\n",
       "14   JPM_US_EQ   2.89                2.9\n",
       "15   IBM_US_EQ   2.88                2.9\n",
       "16   JNJ_US_EQ   2.77                2.8\n",
       "17   WMT_US_EQ   2.69                2.7\n",
       "18   CVX_US_EQ   2.65                2.6\n",
       "19    PG_US_EQ   2.55                2.6\n",
       "20   NKE_US_EQ   2.14                2.1\n",
       "21   MMM_US_EQ   1.89                1.9\n",
       "22   MRK_US_EQ   1.87                1.9\n",
       "23   DIS_US_EQ   1.66                1.7\n",
       "24    KO_US_EQ   1.04                1.0\n",
       "25   DOW_US_EQ   0.96                1.0\n",
       "26  CSCO_US_EQ   0.87                0.9\n",
       "27  INTC_US_EQ   0.80                0.8\n",
       "28    VZ_US_EQ   0.67                0.7\n",
       "29   WBA_US_EQ   0.44                0.4"
      ]
     },
     "execution_count": 18,
     "metadata": {},
     "output_type": "execute_result"
    }
   ],
   "source": [
    "rounded_vector = [round(element, 1) for element in rounded_vector]\n",
    "vector_holdings['weight_trading212']=rounded_vector\n",
    "vector_holdings['symbol']= vector_holdings['symbol']+'_US_EQ'\n",
    "vector_holdings"
   ]
  },
  {
   "cell_type": "code",
   "execution_count": 19,
   "id": "99f3924e-0717-420a-94bc-afe2d015534a",
   "metadata": {},
   "outputs": [
    {
     "data": {
      "text/plain": [
       "0.167332005306815"
      ]
     },
     "execution_count": 19,
     "metadata": {},
     "output_type": "execute_result"
    }
   ],
   "source": [
    "from scipy.spatial import distance\n",
    "euclidean_distance = distance.euclidean(vector_holdings['weight'].astype(float), vector_holdings['weight_trading212'].astype(float))\n",
    "euclidean_distance"
   ]
  },
  {
   "cell_type": "code",
   "execution_count": 26,
   "id": "3fc15407-562b-4984-a484-62e24c77a790",
   "metadata": {},
   "outputs": [
    {
     "name": "stderr",
     "output_type": "stream",
     "text": [
      "C:\\Users\\adamj\\AppData\\Local\\Temp\\ipykernel_380\\507860111.py:1: SettingWithCopyWarning: \n",
      "A value is trying to be set on a copy of a slice from a DataFrame\n",
      "\n",
      "See the caveats in the documentation: https://pandas.pydata.org/pandas-docs/stable/user_guide/indexing.html#returning-a-view-versus-a-copy\n",
      "  vector_holdings['weight_trading212'][0]=9.6\n"
     ]
    }
   ],
   "source": [
    "vector_holdings['weight_trading212'][0]=9.6"
   ]
  },
  {
   "cell_type": "code",
   "execution_count": 27,
   "id": "1e8b38a8-9397-4958-b509-719c2211eebd",
   "metadata": {},
   "outputs": [],
   "source": [
    "vector_holdings['weight_trading212']=vector_holdings['weight_trading212'].round(1)"
   ]
  },
  {
   "cell_type": "code",
   "execution_count": 28,
   "id": "160b7ff0-9d6d-4cf3-8add-fdf3fb6c1c74",
   "metadata": {},
   "outputs": [
    {
     "data": {
      "text/plain": [
       "100.10000000000001"
      ]
     },
     "execution_count": 28,
     "metadata": {},
     "output_type": "execute_result"
    }
   ],
   "source": [
    "vector_holdings['weight_trading212'].sum()"
   ]
  },
  {
   "cell_type": "code",
   "execution_count": 29,
   "id": "c374b45b-b629-45ed-8a4c-5e42f70d83c1",
   "metadata": {},
   "outputs": [],
   "source": [
    "vector_holdings['weight_trading212']=vector_holdings['weight_trading212']/100"
   ]
  },
  {
   "cell_type": "code",
   "execution_count": 30,
   "id": "a9ad0115-cf0a-4244-99b4-5d52cfeeb63c",
   "metadata": {},
   "outputs": [],
   "source": [
    "json_data = vector_holdings.set_index('symbol').to_dict()['weight_trading212']"
   ]
  },
  {
   "cell_type": "code",
   "execution_count": 31,
   "id": "6c4acd47-3826-445c-b3e7-15f3ee509a25",
   "metadata": {},
   "outputs": [
    {
     "data": {
      "text/plain": [
       "1.0010000000000003"
      ]
     },
     "execution_count": 31,
     "metadata": {},
     "output_type": "execute_result"
    }
   ],
   "source": [
    "sum(json_data.values())"
   ]
  },
  {
   "cell_type": "code",
   "execution_count": 32,
   "id": "2fdb5703-2b5c-4ce9-bc8e-a62558bd44bb",
   "metadata": {},
   "outputs": [
    {
     "data": {
      "text/plain": [
       "{'UNH_US_EQ': 0.096,\n",
       " 'GS_US_EQ': 0.068,\n",
       " 'MSFT_US_EQ': 0.065,\n",
       " 'HD_US_EQ': 0.062,\n",
       " 'MCD_US_EQ': 0.051,\n",
       " 'CAT_US_EQ': 0.05,\n",
       " 'AMGN_US_EQ': 0.049,\n",
       " 'V_US_EQ': 0.046,\n",
       " 'CRM_US_EQ': 0.045,\n",
       " 'BA_US_EQ': 0.045,\n",
       " 'HON_US_EQ': 0.036000000000000004,\n",
       " 'AAPL_US_EQ': 0.035,\n",
       " 'TRV_US_EQ': 0.032,\n",
       " 'AXP_US_EQ': 0.032,\n",
       " 'JPM_US_EQ': 0.028999999999999998,\n",
       " 'IBM_US_EQ': 0.028999999999999998,\n",
       " 'JNJ_US_EQ': 0.027999999999999997,\n",
       " 'WMT_US_EQ': 0.027000000000000003,\n",
       " 'CVX_US_EQ': 0.026000000000000002,\n",
       " 'PG_US_EQ': 0.026000000000000002,\n",
       " 'NKE_US_EQ': 0.021,\n",
       " 'MMM_US_EQ': 0.019,\n",
       " 'MRK_US_EQ': 0.019,\n",
       " 'DIS_US_EQ': 0.017,\n",
       " 'KO_US_EQ': 0.01,\n",
       " 'DOW_US_EQ': 0.01,\n",
       " 'CSCO_US_EQ': 0.009000000000000001,\n",
       " 'INTC_US_EQ': 0.008,\n",
       " 'VZ_US_EQ': 0.006999999999999999,\n",
       " 'WBA_US_EQ': 0.004}"
      ]
     },
     "execution_count": 32,
     "metadata": {},
     "output_type": "execute_result"
    }
   ],
   "source": [
    "json_data"
   ]
  },
  {
   "cell_type": "code",
   "execution_count": 33,
   "id": "164c24f3-cd28-4a61-8d86-5957d2b2ddc6",
   "metadata": {},
   "outputs": [
    {
     "data": {
      "text/plain": [
       "\"\\nwith open('schd_holdings212.json', 'w') as json_file:\\n    json.dump(json_data, json_file, indent=4)\\n\""
      ]
     },
     "execution_count": 33,
     "metadata": {},
     "output_type": "execute_result"
    }
   ],
   "source": [
    "'''\n",
    "with open('schd_holdings212.json', 'w') as json_file:\n",
    "    json.dump(json_data, json_file, indent=4)\n",
    "'''"
   ]
  },
  {
   "cell_type": "code",
   "execution_count": 35,
   "id": "b10fb8bb-a72a-45ea-8551-144accb3947e",
   "metadata": {},
   "outputs": [
    {
     "name": "stdout",
     "output_type": "stream",
     "text": [
      "{'code': 'Instrument with ticker DOW_US_EQ cannot be found in our equity instruments'}\n"
     ]
    }
   ],
   "source": [
    "json_data = vector_holdings.set_index('symbol').to_dict()['weight_trading212']\n",
    "import requests\n",
    "\n",
    "url = \"https://live.trading212.com/api/v0/equity/pies\"\n",
    "\n",
    "payload = {\n",
    "  \"dividendCashAction\": \"REINVEST\",\n",
    "  \"endDate\": \"2019-08-24T14:15:22Z\",\n",
    "  \"goal\": 0,\n",
    "  \"icon\": \"Home\",\n",
    "  \"instrumentShares\": json_data,\n",
    "  \"name\": \"dj30\"\n",
    "}\n",
    "\n",
    "headers = {\n",
    "  \"Content-Type\": \"application/json\",\n",
    "  \"Authorization\": \"yuour key\"\n",
    "}\n",
    "\n",
    "response = requests.post(url, json=payload, headers=headers)\n",
    "\n",
    "data = response.json()\n",
    "print(data)"
   ]
  },
  {
   "cell_type": "code",
   "execution_count": null,
   "id": "71bd1022-b424-4a0a-ac47-4da100495ff4",
   "metadata": {},
   "outputs": [],
   "source": []
  }
 ],
 "metadata": {
  "kernelspec": {
   "display_name": "Python 3 (ipykernel)",
   "language": "python",
   "name": "python3"
  },
  "language_info": {
   "codemirror_mode": {
    "name": "ipython",
    "version": 3
   },
   "file_extension": ".py",
   "mimetype": "text/x-python",
   "name": "python",
   "nbconvert_exporter": "python",
   "pygments_lexer": "ipython3",
   "version": "3.10.13"
  }
 },
 "nbformat": 4,
 "nbformat_minor": 5
}
